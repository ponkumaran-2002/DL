{
 "cells": [
  {
   "cell_type": "code",
   "execution_count": 2,
   "metadata": {},
   "outputs": [
    {
     "name": "stdout",
     "output_type": "stream",
     "text": [
      "Is the GPU available? False\n"
     ]
    }
   ],
   "source": [
    "import torch\n",
    "#check GPU availability\n",
    "gpu_avail = torch.cuda.is_available()\n",
    "print(f\"Is the GPU available? {gpu_avail}\")\n"
   ]
  },
  {
   "cell_type": "code",
   "execution_count": 3,
   "metadata": {},
   "outputs": [
    {
     "name": "stdout",
     "output_type": "stream",
     "text": [
      "Device cpu\n"
     ]
    }
   ],
   "source": [
    "device = torch.device(\"cuda\") if torch.cuda.is_available() else torch.device(\"cpu\")\n",
    "print(\"Device\", device)"
   ]
  },
  {
   "cell_type": "code",
   "execution_count": 4,
   "metadata": {},
   "outputs": [
    {
     "name": "stdout",
     "output_type": "stream",
     "text": [
      "tensor([[0.6187, 0.8142],\n",
      "        [0.1981, 0.8475]])\n",
      "tensor([[1.0565, 1.2666],\n",
      "        [0.5940, 1.2166]])\n"
     ]
    }
   ],
   "source": [
    "#Various ways you can perform tensor addition\n",
    "a = torch.rand(2,2)\n",
    "print(a)\n",
    "b = torch.rand(2,2)\n",
    "c = a + b\n",
    "d = torch.add(a,b)\n",
    "#For in-place addition\n",
    "print(d)"
   ]
  },
  {
   "cell_type": "code",
   "execution_count": 5,
   "metadata": {},
   "outputs": [
    {
     "data": {
      "text/plain": [
       "tensor([[5.6187, 5.8142],\n",
       "        [5.1981, 5.8475]])"
      ]
     },
     "execution_count": 5,
     "metadata": {},
     "output_type": "execute_result"
    }
   ],
   "source": [
    "a.add_(5)"
   ]
  },
  {
   "cell_type": "code",
   "execution_count": 6,
   "metadata": {},
   "outputs": [
    {
     "name": "stdout",
     "output_type": "stream",
     "text": [
      "tensor([[5.6187, 5.8142],\n",
      "        [5.1981, 5.8475]])\n",
      "tensor([[2.4599, 2.6308],\n",
      "        [2.0583, 2.1582]])\n",
      "tensor([[2.4599, 2.6308],\n",
      "        [2.0583, 2.1582]])\n"
     ]
    }
   ],
   "source": [
    "print(a)\n",
    "print(a*b)\n",
    "print(a.mul(b))"
   ]
  },
  {
   "cell_type": "code",
   "execution_count": 7,
   "metadata": {},
   "outputs": [
    {
     "name": "stdout",
     "output_type": "stream",
     "text": [
      "<built-in method size of Tensor object at 0x000001C392B537C0>\n"
     ]
    },
    {
     "data": {
      "text/plain": [
       "tensor([[2467.3354, 2519.4539, 2490.2942,  ..., 2537.3083, 2518.6099,\n",
       "         2482.7126],\n",
       "        [2463.6174, 2512.8564, 2500.3770,  ..., 2530.6787, 2540.0569,\n",
       "         2469.7932],\n",
       "        [2458.5974, 2488.6399, 2495.5125,  ..., 2522.6743, 2522.5999,\n",
       "         2466.6306],\n",
       "        ...,\n",
       "        [2510.9592, 2546.8135, 2528.0874,  ..., 2548.4326, 2557.8257,\n",
       "         2505.0859],\n",
       "        [2463.1848, 2487.4351, 2491.3108,  ..., 2518.6421, 2530.0337,\n",
       "         2458.3274],\n",
       "        [2448.6309, 2488.9424, 2488.0315,  ..., 2501.9126, 2524.5276,\n",
       "         2450.4771]])"
      ]
     },
     "execution_count": 7,
     "metadata": {},
     "output_type": "execute_result"
    }
   ],
   "source": [
    "a = torch.rand(10000,10000)\n",
    "b = torch.rand(10000,10000)\n",
    "print(a.size)\n",
    "a.matmul(b)"
   ]
  },
  {
   "cell_type": "code",
   "execution_count": 8,
   "metadata": {},
   "outputs": [],
   "source": [
    "import numpy as np\n",
    "l=[2,3,4,5]\n",
    "a=np.array(l)"
   ]
  },
  {
   "cell_type": "code",
   "execution_count": 9,
   "metadata": {},
   "outputs": [
    {
     "name": "stdout",
     "output_type": "stream",
     "text": [
      "tensor([2, 3, 4, 5], dtype=torch.int32)\n"
     ]
    }
   ],
   "source": [
    "arr=torch.from_numpy(a)\n",
    "print(arr)"
   ]
  },
  {
   "cell_type": "code",
   "execution_count": 10,
   "metadata": {},
   "outputs": [
    {
     "name": "stdout",
     "output_type": "stream",
     "text": [
      "tensor([[0., 0., 0.],\n",
      "        [0., 0., 0.]], dtype=torch.float64)\n"
     ]
    }
   ],
   "source": [
    "f=torch.zeros(2,3,dtype=torch.float64)\n",
    "print(f)"
   ]
  },
  {
   "cell_type": "code",
   "execution_count": 11,
   "metadata": {},
   "outputs": [
    {
     "name": "stdout",
     "output_type": "stream",
     "text": [
      "tensor([ 6.,  8., 10.])\n"
     ]
    }
   ],
   "source": [
    "a=torch.tensor([5,6,7],dtype=torch.float)\n",
    "b=torch.tensor([1,2,3],dtype=torch.float)\n",
    "print(a+b)"
   ]
  },
  {
   "cell_type": "code",
   "execution_count": 12,
   "metadata": {},
   "outputs": [
    {
     "name": "stdout",
     "output_type": "stream",
     "text": [
      "tensor([ 6.,  8., 10.])\n"
     ]
    },
    {
     "name": "stderr",
     "output_type": "stream",
     "text": [
      "C:\\Users\\ponku\\AppData\\Local\\Temp/ipykernel_15884/571966660.py:1: UserWarning: An output with one or more elements was resized since it had shape [2, 2], which does not match the required output shape [3]. This behavior is deprecated, and in a future PyTorch release outputs will not be resized unless they have zero elements. You can explicitly reuse an out tensor t by resizing it, inplace, to zero elements with t.resize_(0). (Triggered internally at C:\\actions-runner\\_work\\pytorch\\pytorch\\builder\\windows\\pytorch\\aten\\src\\ATen\\native\\Resize.cpp:24.)\n",
      "  torch.add(b,a,out=c)\n"
     ]
    }
   ],
   "source": [
    "torch.add(b,a,out=c)\n",
    "print(c)"
   ]
  },
  {
   "cell_type": "code",
   "execution_count": 13,
   "metadata": {},
   "outputs": [
    {
     "data": {
      "text/plain": [
       "tensor(24.)"
      ]
     },
     "execution_count": 13,
     "metadata": {},
     "output_type": "execute_result"
    }
   ],
   "source": [
    "torch.add(a,b).sum()"
   ]
  },
  {
   "cell_type": "code",
   "execution_count": 14,
   "metadata": {},
   "outputs": [
    {
     "data": {
      "text/plain": [
       "tensor([ 8, 15])"
      ]
     },
     "execution_count": 14,
     "metadata": {},
     "output_type": "execute_result"
    }
   ],
   "source": [
    "a=torch.tensor([4,5])\n",
    "b=torch.tensor([2,3])\n",
    "a.mul(b)"
   ]
  },
  {
   "cell_type": "code",
   "execution_count": 15,
   "metadata": {},
   "outputs": [
    {
     "data": {
      "text/plain": [
       "tensor(23)"
      ]
     },
     "execution_count": 15,
     "metadata": {},
     "output_type": "execute_result"
    }
   ],
   "source": [
    "a.dot(b)"
   ]
  },
  {
   "cell_type": "code",
   "execution_count": 16,
   "metadata": {},
   "outputs": [
    {
     "name": "stdout",
     "output_type": "stream",
     "text": [
      "torch.Size([3, 5, 2])\n",
      "tensor([[[-1.5445,  1.6452],\n",
      "         [ 0.4181, -0.1678],\n",
      "         [ 1.2562,  0.3379],\n",
      "         [-0.5347, -1.5868],\n",
      "         [ 0.8426, -0.6028]],\n",
      "\n",
      "        [[ 0.5956,  0.9728],\n",
      "         [-1.7924,  1.2561],\n",
      "         [ 1.4748, -2.4358],\n",
      "         [-0.8120,  1.4552],\n",
      "         [ 1.2839, -0.5423]],\n",
      "\n",
      "        [[-0.5663,  0.4954],\n",
      "         [-0.0252,  0.1390],\n",
      "         [ 0.6573, -0.1574],\n",
      "         [ 0.3083, -1.9023],\n",
      "         [-1.3625,  0.1542]]])\n",
      "torch.Size([2, 3, 5])\n",
      "tensor([[[-1.5445,  0.4181,  1.2562, -0.5347,  0.8426],\n",
      "         [ 0.5956, -1.7924,  1.4748, -0.8120,  1.2839],\n",
      "         [-0.5663, -0.0252,  0.6573,  0.3083, -1.3625]],\n",
      "\n",
      "        [[ 1.6452, -0.1678,  0.3379, -1.5868, -0.6028],\n",
      "         [ 0.9728,  1.2561, -2.4358,  1.4552, -0.5423],\n",
      "         [ 0.4954,  0.1390, -0.1574, -1.9023,  0.1542]]])\n"
     ]
    }
   ],
   "source": [
    "import torch\n",
    "  \n",
    "# creating a tensor with random \n",
    "# values of dimension 3 X 5 X 2\n",
    "input_var = torch.randn(3, 5, 2)\n",
    "  \n",
    "# print size\n",
    "print(input_var.size())\n",
    "  \n",
    "print(input_var)\n",
    "  \n",
    "# dimensions permuted\n",
    "input_var = input_var.permute(2, 0, 1)\n",
    "  \n",
    "# print size\n",
    "print(input_var.size())\n",
    "  \n",
    "print(input_var)"
   ]
  },
  {
   "cell_type": "code",
   "execution_count": 24,
   "metadata": {},
   "outputs": [
    {
     "name": "stdout",
     "output_type": "stream",
     "text": [
      "a:** tensor([5., 9.])\n",
      "b:** tensor([6., 9.])\n",
      "a:** tensor([5., 9.])\n",
      "b:** tensor([ 7., 10.])\n",
      "a:** tensor([2., 2.])\n",
      "b:** tensor([6., 9.])\n",
      "a:** tensor([2., 2.])\n",
      "b:** tensor([ 7., 10.])\n",
      "tensor([[111., 125.],\n",
      "        [ 30.,  34.]])\n",
      "tensor([[111., 125.],\n",
      "        [ 30.,  34.]])\n",
      "tensor([[30., 63.],\n",
      "        [18., 20.]])\n",
      "tensor([[ 1.4167, -5.2083],\n",
      "        [-1.2500,  4.6250]])\n",
      "[[111. 125.]\n",
      " [ 30.  34.]]\n"
     ]
    }
   ],
   "source": [
    "a1=torch.tensor([[5,9],[2,2]],dtype=torch.float32)\n",
    "a2=torch.tensor([[6,7],[9,10]],dtype=torch.float32)\n",
    "C=torch.zeros((2,2),dtype=torch.float32)\n",
    "for i in range(2):\n",
    "    v=0\n",
    "    for j in range(2):\n",
    "        v=torch.dot(a1[i,:],a2[:,j])\n",
    "        print(\"a:**\",a1[i,:])\n",
    "        print(\"b:**\",a2[:,j])\n",
    "        C[i][j]=v\n",
    "print(C)\n",
    "print(torch.matmul(a1,a2))\n",
    "print(a1.mul(a2))\n",
    "print(torch.inverse(C))\n",
    "C=C.numpy()\n",
    "print(C)"
   ]
  },
  {
   "cell_type": "code",
   "execution_count": 42,
   "metadata": {},
   "outputs": [
    {
     "name": "stdout",
     "output_type": "stream",
     "text": [
      "[[-0.0, -0.5, 0.5], [-0.16666666666666666, 1.0, -0.16666666666666666], [0.3333333333333333, -0.5, -0.16666666666666666]]\n",
      "-0.0 -0.5 0.5 \n",
      "-0.166667 1.0 -0.166667 \n",
      "0.333333 -0.5 -0.166667 \n"
     ]
    }
   ],
   "source": [
    "N=3\n",
    "inv = [None for _ in range(N)]\n",
    "def getCofactor(A, temp, p, q, n):\n",
    "    i = 0\n",
    "    j = 0 \n",
    "    for row in range(n):\n",
    " \n",
    "        for col in range(n):\n",
    "            if (row != p and col != q):\n",
    " \n",
    "                temp[i][j] = A[row][col]\n",
    "                j += 1\n",
    "                if (j == n - 1):\n",
    "                    j = 0\n",
    "                    i += 1\n",
    "def determinant(A, n):\n",
    "    D = 0\n",
    "    if (n == 1):\n",
    "        return A[0][0]\n",
    "    temp = [] \n",
    "    for i in range(N):\n",
    "        temp.append([None for _ in range(N)])\n",
    "    sign = 1  \n",
    "    for f in range(n):\n",
    "        getCofactor(A, temp, 0, f, n)\n",
    "        D += sign * A[0][f] * determinant(temp, n - 1)\n",
    "        sign = -sign\n",
    " \n",
    "    return D\n",
    "def adjoint(A, adj):\n",
    "    if (N == 1):\n",
    "        adj[0][0] = 1\n",
    "        return\n",
    "    sign = 1\n",
    "    temp = []\n",
    "    for i in range(N):\n",
    "        temp.append([None for _ in range(N)])\n",
    "    for i in range(N):\n",
    "        for j in range(N):\n",
    "            # Get cofactor of A[i][j]\n",
    "            getCofactor(A, temp, i, j, N)\n",
    "            sign = [1, -1][(i + j) % 2]\n",
    "            adj[j][i] = (sign)*(determinant(temp, N-1))\n",
    "def inverse(A, inverse):\n",
    "    det = determinant(A, N)\n",
    "    if (det == 0):\n",
    "        print(\"Singular matrix, can't find its inverse\")\n",
    "        return False\n",
    "    adj = []\n",
    "    for i in range(N):\n",
    "        adj.append([None for _ in range(N)])\n",
    "    adjoint(A, adj)\n",
    "    for i in range(N):\n",
    "        for j in range(N):\n",
    "            inverse[i][j] = adj[i][j] / det\n",
    "    return True\n",
    "def displays(A):\n",
    "    for i in range(N):\n",
    "        for j in range(N):\n",
    "            print(round(A[i][j], 6), end=\" \")\n",
    "        print()\n",
    "for i in range(N):\n",
    "    inv[i] = [None for _ in range(N)]\n",
    "A=[[3,4,5],[1,2,1],[3,2,1]]\n",
    "inverse(A,inv)\n",
    "print(inv)\n",
    "displays(inv)"
   ]
  }
 ],
 "metadata": {
  "kernelspec": {
   "display_name": "base",
   "language": "python",
   "name": "python3"
  },
  "language_info": {
   "codemirror_mode": {
    "name": "ipython",
    "version": 3
   },
   "file_extension": ".py",
   "mimetype": "text/x-python",
   "name": "python",
   "nbconvert_exporter": "python",
   "pygments_lexer": "ipython3",
   "version": "3.9.7"
  },
  "orig_nbformat": 4,
  "vscode": {
   "interpreter": {
    "hash": "cd3822b8771159e12ad533e9b9e180a352f65546fe5f5bf6c3921988514f69c7"
   }
  }
 },
 "nbformat": 4,
 "nbformat_minor": 2
}
